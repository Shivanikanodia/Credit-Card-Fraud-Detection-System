{
 "cells": [
  {
   "cell_type": "markdown",
   "id": "6995e567-7587-4a71-b497-0a0ba73902dd",
   "metadata": {},
   "source": [
    "## Identifying fraudulent Transactions: "
   ]
  },
  {
   "cell_type": "markdown",
   "id": "f011aca2-d257-486b-9575-fa64cf2035a5",
   "metadata": {},
   "source": [
    "This dataset loosely resembles real transactional data from capital one credit card customers, but the entities and relations within are purely fictional. No persons, places, or things lost their identity in the making of this dataset."
   ]
  },
  {
   "cell_type": "markdown",
   "id": "6b67a412-226d-4381-a476-03ffb0eaea9a",
   "metadata": {},
   "source": [
    "## Goal of the Project:\n",
    "The goal of this project is to build a predictive model to determine whether a given transaction will be fraudulent or not. \n",
    "Also, analyze reversed and multiswipe transactions to identify patterns, outliers, and significant trends across merchants and account numbers over time."
   ]
  },
  {
   "cell_type": "markdown",
   "id": "090e8436-45a0-445d-975f-00db592123be",
   "metadata": {},
   "source": [
    "## Importing Neccessary libraries "
   ]
  },
  {
   "cell_type": "markdown",
   "id": "c995add0-1e19-478c-801a-c16adc1a1cf6",
   "metadata": {},
   "source": [
    "I am importing the jsonlines library because the data is in a text format, specifically structured as JSON Lines (where each line is a valid JSON object). The jsonlines library allows me to efficiently read and process this type of data line by line, which is particularly useful for large datasets."
   ]
  },
  {
   "cell_type": "code",
   "execution_count": 2,
   "id": "850f9a50-9094-4ac6-bcac-f0014befe6f2",
   "metadata": {},
   "outputs": [
    {
     "name": "stdout",
     "output_type": "stream",
     "text": [
      "Requirement already satisfied: jsonlines in /opt/anaconda3/lib/python3.12/site-packages (4.0.0)\n",
      "Requirement already satisfied: attrs>=19.2.0 in /opt/anaconda3/lib/python3.12/site-packages (from jsonlines) (23.1.0)\n"
     ]
    }
   ],
   "source": [
    "!pip install jsonlines "
   ]
  },
  {
   "cell_type": "code",
   "execution_count": 3,
   "id": "b0d87952-b93f-484a-adf6-80f30ffe753d",
   "metadata": {},
   "outputs": [
    {
     "name": "stdout",
     "output_type": "stream",
     "text": [
      "Requirement already satisfied: xgboost in /opt/anaconda3/lib/python3.12/site-packages (3.0.0)\n",
      "Requirement already satisfied: numpy in /opt/anaconda3/lib/python3.12/site-packages (from xgboost) (1.26.4)\n",
      "Requirement already satisfied: scipy in /opt/anaconda3/lib/python3.12/site-packages (from xgboost) (1.13.1)\n"
     ]
    }
   ],
   "source": [
    "!pip install xgboost\n"
   ]
  },
  {
   "cell_type": "code",
   "execution_count": 4,
   "id": "4f15cc5e-96f0-4d5b-b2d8-bf40de4bb0c0",
   "metadata": {},
   "outputs": [
    {
     "name": "stdout",
     "output_type": "stream",
     "text": [
      "/opt/anaconda3/bin/python\n",
      "       accountNumber customerId  creditLimit  availableMoney  \\\n",
      "0          737265056  737265056       5000.0         5000.00   \n",
      "1          737265056  737265056       5000.0         5000.00   \n",
      "2          737265056  737265056       5000.0         5000.00   \n",
      "3          737265056  737265056       5000.0         5000.00   \n",
      "4          830329091  830329091       5000.0         5000.00   \n",
      "...              ...        ...          ...             ...   \n",
      "786358     732852505  732852505      50000.0        48904.96   \n",
      "786359     732852505  732852505      50000.0        48785.04   \n",
      "786360     732852505  732852505      50000.0        48766.15   \n",
      "786361     732852505  732852505      50000.0        48716.72   \n",
      "786362     732852505  732852505      50000.0        48666.83   \n",
      "\n",
      "        transactionDateTime  transactionAmount         merchantName  \\\n",
      "0       2016-08-13T14:27:32              98.55                 Uber   \n",
      "1       2016-10-11T05:05:54              74.51          AMC #191138   \n",
      "2       2016-11-08T09:18:39               7.47           Play Store   \n",
      "3       2016-12-10T02:14:50               7.47           Play Store   \n",
      "4       2016-03-24T21:04:46              71.18  Tim Hortons #947751   \n",
      "...                     ...                ...                  ...   \n",
      "786358  2016-12-22T18:44:12             119.92                 Lyft   \n",
      "786359  2016-12-25T16:20:34              18.89             hulu.com   \n",
      "786360  2016-12-27T15:46:24              49.43                 Lyft   \n",
      "786361  2016-12-29T00:30:55              49.89          walmart.com   \n",
      "786362  2016-12-30T20:10:29              72.18                 Uber   \n",
      "\n",
      "       acqCountry merchantCountryCode posEntryMode  ... echoBuffer  \\\n",
      "0              US                  US           02  ...              \n",
      "1              US                  US           09  ...              \n",
      "2              US                  US           09  ...              \n",
      "3              US                  US           09  ...              \n",
      "4              US                  US           02  ...              \n",
      "...           ...                 ...          ...  ...        ...   \n",
      "786358         US                  US           90  ...              \n",
      "786359         US                  US           09  ...              \n",
      "786360         US                  US           02  ...              \n",
      "786361         US                  US           09  ...              \n",
      "786362         US                  US           05  ...              \n",
      "\n",
      "       currentBalance merchantCity merchantState merchantZip cardPresent  \\\n",
      "0                0.00                                              False   \n",
      "1                0.00                                               True   \n",
      "2                0.00                                              False   \n",
      "3                0.00                                              False   \n",
      "4                0.00                                               True   \n",
      "...               ...          ...           ...         ...         ...   \n",
      "786358        1095.04                                              False   \n",
      "786359        1214.96                                              False   \n",
      "786360        1233.85                                              False   \n",
      "786361        1283.28                                              False   \n",
      "786362        1333.17                                              False   \n",
      "\n",
      "       posOnPremises recurringAuthInd expirationDateKeyInMatch isFraud  \n",
      "0                                                        False   False  \n",
      "1                                                        False   False  \n",
      "2                                                        False   False  \n",
      "3                                                        False   False  \n",
      "4                                                        False   False  \n",
      "...              ...              ...                      ...     ...  \n",
      "786358                                                   False   False  \n",
      "786359                                                   False   False  \n",
      "786360                                                   False   False  \n",
      "786361                                                   False   False  \n",
      "786362                                                   False   False  \n",
      "\n",
      "[786363 rows x 29 columns]\n"
     ]
    }
   ],
   "source": [
    "import jsonlines\n",
    "import pandas as pd\n",
    "from datetime import datetime\n",
    "import sys\n",
    "print(sys.executable)\n",
    "\n",
    "#Read the line-delimited JSON file\n",
    "data = []\n",
    "with jsonlines.open(\"/Users/shivanikanodia/Downloads/transactions.txt\") as reader:\n",
    "    for obj in reader:\n",
    "        data.append(obj)\n",
    "\n",
    "#Convert to DataFrame\n",
    "data = pd.DataFrame(data)\n",
    "\n",
    "#View the DataFrame\n",
    "print(data)     # Print the entire DataFrame  "
   ]
  },
  {
   "cell_type": "markdown",
   "id": "a0e8e99a-f808-441b-b015-0849982e6395",
   "metadata": {},
   "source": [
    "## Exploring the data set:"
   ]
  },
  {
   "cell_type": "code",
   "execution_count": 6,
   "id": "519f907a-930a-42f0-a515-02fb7c1dd8eb",
   "metadata": {},
   "outputs": [
    {
     "name": "stdout",
     "output_type": "stream",
     "text": [
      "<class 'pandas.core.frame.DataFrame'>\n",
      "RangeIndex: 786363 entries, 0 to 786362\n",
      "Data columns (total 29 columns):\n",
      " #   Column                    Non-Null Count   Dtype  \n",
      "---  ------                    --------------   -----  \n",
      " 0   accountNumber             786363 non-null  object \n",
      " 1   customerId                786363 non-null  object \n",
      " 2   creditLimit               786363 non-null  float64\n",
      " 3   availableMoney            786363 non-null  float64\n",
      " 4   transactionDateTime       786363 non-null  object \n",
      " 5   transactionAmount         786363 non-null  float64\n",
      " 6   merchantName              786363 non-null  object \n",
      " 7   acqCountry                786363 non-null  object \n",
      " 8   merchantCountryCode       786363 non-null  object \n",
      " 9   posEntryMode              786363 non-null  object \n",
      " 10  posConditionCode          786363 non-null  object \n",
      " 11  merchantCategoryCode      786363 non-null  object \n",
      " 12  currentExpDate            786363 non-null  object \n",
      " 13  accountOpenDate           786363 non-null  object \n",
      " 14  dateOfLastAddressChange   786363 non-null  object \n",
      " 15  cardCVV                   786363 non-null  object \n",
      " 16  enteredCVV                786363 non-null  object \n",
      " 17  cardLast4Digits           786363 non-null  object \n",
      " 18  transactionType           786363 non-null  object \n",
      " 19  echoBuffer                786363 non-null  object \n",
      " 20  currentBalance            786363 non-null  float64\n",
      " 21  merchantCity              786363 non-null  object \n",
      " 22  merchantState             786363 non-null  object \n",
      " 23  merchantZip               786363 non-null  object \n",
      " 24  cardPresent               786363 non-null  bool   \n",
      " 25  posOnPremises             786363 non-null  object \n",
      " 26  recurringAuthInd          786363 non-null  object \n",
      " 27  expirationDateKeyInMatch  786363 non-null  bool   \n",
      " 28  isFraud                   786363 non-null  bool   \n",
      "dtypes: bool(3), float64(4), object(22)\n",
      "memory usage: 158.2+ MB\n",
      "None\n"
     ]
    }
   ],
   "source": [
    "print(data.info())  # Print a summary of the DataFrame (columns, types, etc.) "
   ]
  },
  {
   "cell_type": "markdown",
   "id": "2d2c042f-d160-4ae5-8c1a-261186e9133f",
   "metadata": {},
   "source": [
    "Transaction dataset has total of **786363** entries, with total of **29** coulmns.\n",
    "It has both object float and boolean data types which indicates data is mix of different set values. "
   ]
  },
  {
   "cell_type": "markdown",
   "id": "9d8698fa-775a-41f7-a9f4-23d490026da0",
   "metadata": {},
   "source": [
    "We can drop CustomerID column as it contains data which is identical to the AccountNumber column. Retaining both columns does not add value to the analysis and may lead to redundancy in further analysis. "
   ]
  },
  {
   "cell_type": "markdown",
   "id": "dbe4aa70-2b79-4239-a69e-02be6f554b63",
   "metadata": {},
   "source": [
    "### 1.Exploratory Data Analysis Phase : "
   ]
  },
  {
   "cell_type": "code",
   "execution_count": 7,
   "id": "2e54fd0e-15da-4d5b-ba9f-778d9eedaca3",
   "metadata": {},
   "outputs": [
    {
     "name": "stdout",
     "output_type": "stream",
     "text": [
      "accountNumber               0\n",
      "customerId                  0\n",
      "creditLimit                 0\n",
      "availableMoney              0\n",
      "transactionDateTime         0\n",
      "transactionAmount           0\n",
      "merchantName                0\n",
      "acqCountry                  0\n",
      "merchantCountryCode         0\n",
      "posEntryMode                0\n",
      "posConditionCode            0\n",
      "merchantCategoryCode        0\n",
      "currentExpDate              0\n",
      "accountOpenDate             0\n",
      "dateOfLastAddressChange     0\n",
      "cardCVV                     0\n",
      "enteredCVV                  0\n",
      "cardLast4Digits             0\n",
      "transactionType             0\n",
      "echoBuffer                  0\n",
      "currentBalance              0\n",
      "merchantCity                0\n",
      "merchantState               0\n",
      "merchantZip                 0\n",
      "cardPresent                 0\n",
      "posOnPremises               0\n",
      "recurringAuthInd            0\n",
      "expirationDateKeyInMatch    0\n",
      "isFraud                     0\n",
      "dtype: int64\n"
     ]
    }
   ],
   "source": [
    "# Check remaining missing values\n",
    "missing_summary = data.isnull().sum()\n",
    "print(missing_summary) "
   ]
  },
  {
   "cell_type": "code",
   "execution_count": 8,
   "id": "044d974c-e843-42d8-a59d-d637b92098cc",
   "metadata": {},
   "outputs": [
    {
     "name": "stdout",
     "output_type": "stream",
     "text": [
      "First few rows of customerId and accountNumber:\n",
      "  customerId accountNumber\n",
      "0  737265056     737265056\n",
      "1  737265056     737265056\n",
      "2  737265056     737265056\n",
      "3  737265056     737265056\n",
      "4  830329091     830329091\n",
      "Are 'customerId' and 'accountNumber' identical? True\n"
     ]
    }
   ],
   "source": [
    "# Display the first few rows of customerId and accountNumber columns\n",
    "print(\"First few rows of customerId and accountNumber:\")\n",
    "print(data[['customerId', 'accountNumber']].head())\n",
    "\n",
    "# Check if the columns are identical\n",
    "are_identical = data['customerId'].equals(data['accountNumber'])\n",
    "print(f\"Are 'customerId' and 'accountNumber' identical? {are_identical}\") \n",
    "data[['customerId', 'accountNumber']].tail() \n",
    "\n",
    "data = data.drop(columns=['customerId']) "
   ]
  },
  {
   "cell_type": "markdown",
   "id": "3e430313-a1b5-4001-b069-0b6f53986f4e",
   "metadata": {},
   "source": [
    "The dataset has no null values and is completly clean. However there are some coulmns which are empty with no data at all for coulmns like echobuffer, merchantstate and merchantZip which I will remove from analysis as they dont add value in predicting fraudulent activity. "
   ]
  },
  {
   "cell_type": "code",
   "execution_count": 9,
   "id": "a1496848-160e-486c-ae1f-69ac300e1353",
   "metadata": {},
   "outputs": [
    {
     "data": {
      "text/html": [
       "<div>\n",
       "<style scoped>\n",
       "    .dataframe tbody tr th:only-of-type {\n",
       "        vertical-align: middle;\n",
       "    }\n",
       "\n",
       "    .dataframe tbody tr th {\n",
       "        vertical-align: top;\n",
       "    }\n",
       "\n",
       "    .dataframe thead th {\n",
       "        text-align: right;\n",
       "    }\n",
       "</style>\n",
       "<table border=\"1\" class=\"dataframe\">\n",
       "  <thead>\n",
       "    <tr style=\"text-align: right;\">\n",
       "      <th></th>\n",
       "      <th>creditLimit</th>\n",
       "      <th>availableMoney</th>\n",
       "      <th>transactionAmount</th>\n",
       "      <th>currentBalance</th>\n",
       "    </tr>\n",
       "  </thead>\n",
       "  <tbody>\n",
       "    <tr>\n",
       "      <th>count</th>\n",
       "      <td>786363.000000</td>\n",
       "      <td>786363.000000</td>\n",
       "      <td>786363.000000</td>\n",
       "      <td>786363.000000</td>\n",
       "    </tr>\n",
       "    <tr>\n",
       "      <th>mean</th>\n",
       "      <td>10759.464459</td>\n",
       "      <td>6250.725369</td>\n",
       "      <td>136.985791</td>\n",
       "      <td>4508.739089</td>\n",
       "    </tr>\n",
       "    <tr>\n",
       "      <th>std</th>\n",
       "      <td>11636.174890</td>\n",
       "      <td>8880.783989</td>\n",
       "      <td>147.725569</td>\n",
       "      <td>6457.442068</td>\n",
       "    </tr>\n",
       "    <tr>\n",
       "      <th>min</th>\n",
       "      <td>250.000000</td>\n",
       "      <td>-1005.630000</td>\n",
       "      <td>0.000000</td>\n",
       "      <td>0.000000</td>\n",
       "    </tr>\n",
       "    <tr>\n",
       "      <th>25%</th>\n",
       "      <td>5000.000000</td>\n",
       "      <td>1077.420000</td>\n",
       "      <td>33.650000</td>\n",
       "      <td>689.910000</td>\n",
       "    </tr>\n",
       "    <tr>\n",
       "      <th>50%</th>\n",
       "      <td>7500.000000</td>\n",
       "      <td>3184.860000</td>\n",
       "      <td>87.900000</td>\n",
       "      <td>2451.760000</td>\n",
       "    </tr>\n",
       "    <tr>\n",
       "      <th>75%</th>\n",
       "      <td>15000.000000</td>\n",
       "      <td>7500.000000</td>\n",
       "      <td>191.480000</td>\n",
       "      <td>5291.095000</td>\n",
       "    </tr>\n",
       "    <tr>\n",
       "      <th>max</th>\n",
       "      <td>50000.000000</td>\n",
       "      <td>50000.000000</td>\n",
       "      <td>2011.540000</td>\n",
       "      <td>47498.810000</td>\n",
       "    </tr>\n",
       "  </tbody>\n",
       "</table>\n",
       "</div>"
      ],
      "text/plain": [
       "         creditLimit  availableMoney  transactionAmount  currentBalance\n",
       "count  786363.000000   786363.000000      786363.000000   786363.000000\n",
       "mean    10759.464459     6250.725369         136.985791     4508.739089\n",
       "std     11636.174890     8880.783989         147.725569     6457.442068\n",
       "min       250.000000    -1005.630000           0.000000        0.000000\n",
       "25%      5000.000000     1077.420000          33.650000      689.910000\n",
       "50%      7500.000000     3184.860000          87.900000     2451.760000\n",
       "75%     15000.000000     7500.000000         191.480000     5291.095000\n",
       "max     50000.000000    50000.000000        2011.540000    47498.810000"
      ]
     },
     "execution_count": 9,
     "metadata": {},
     "output_type": "execute_result"
    }
   ],
   "source": [
    "data.describe() "
   ]
  },
  {
   "cell_type": "markdown",
   "id": "bc29f868-5554-4ba3-98f6-dbcc0bbcd154",
   "metadata": {},
   "source": [
    "### From the above statistical summary we can see infer below pointers:\n",
    "\n",
    "Analyzing the dataset revealed several key insights into user behavior and financial patterns as stated below. \n",
    "\n",
    "-The average credit limit stands at **$10,759,** indicating that most users possess mid-level credit capacities. Interestingly, the mean available balance is lower than the credit limit, suggesting that users are actively utilizing their credit lines, with some even exceeding their limits, as evidenced by negative balances. \n",
    "\n",
    "-Transaction analysis shows an average amount of **$136,** with **75%** of transactions below **$191,** highlighting a tendency towards smaller purchases.\n",
    "\n",
    "-The positive skewness in transaction amounts further underscores that while most transactions are modest, there are occasional higher-value expenditures. \n",
    "\n",
    "-Additionally, the presence of negative account numbers warrants further investigation to ensure data integrity and accuracy."
   ]
  },
  {
   "cell_type": "markdown",
   "id": "d98d1eb2-a305-490b-b6d5-5992c5955948",
   "metadata": {},
   "source": [
    "### Extracting date and time features for time based analysis: "
   ]
  },
  {
   "cell_type": "code",
   "execution_count": 10,
   "id": "f9011f5f-eb28-4830-b17e-d934cd66013c",
   "metadata": {},
   "outputs": [
    {
     "name": "stdout",
     "output_type": "stream",
     "text": [
      "       accountNumber  creditLimit  availableMoney transactionDateTime  \\\n",
      "0          737265056       5000.0         5000.00 2016-08-13 14:27:32   \n",
      "1          737265056       5000.0         5000.00 2016-10-11 05:05:54   \n",
      "2          737265056       5000.0         5000.00 2016-11-08 09:18:39   \n",
      "3          737265056       5000.0         5000.00 2016-12-10 02:14:50   \n",
      "4          830329091       5000.0         5000.00 2016-03-24 21:04:46   \n",
      "...              ...          ...             ...                 ...   \n",
      "786358     732852505      50000.0        48904.96 2016-12-22 18:44:12   \n",
      "786359     732852505      50000.0        48785.04 2016-12-25 16:20:34   \n",
      "786360     732852505      50000.0        48766.15 2016-12-27 15:46:24   \n",
      "786361     732852505      50000.0        48716.72 2016-12-29 00:30:55   \n",
      "786362     732852505      50000.0        48666.83 2016-12-30 20:10:29   \n",
      "\n",
      "        transactionAmount         merchantName acqCountry merchantCountryCode  \\\n",
      "0                   98.55                 Uber         US                  US   \n",
      "1                   74.51          AMC #191138         US                  US   \n",
      "2                    7.47           Play Store         US                  US   \n",
      "3                    7.47           Play Store         US                  US   \n",
      "4                   71.18  Tim Hortons #947751         US                  US   \n",
      "...                   ...                  ...        ...                 ...   \n",
      "786358             119.92                 Lyft         US                  US   \n",
      "786359              18.89             hulu.com         US                  US   \n",
      "786360              49.43                 Lyft         US                  US   \n",
      "786361              49.89          walmart.com         US                  US   \n",
      "786362              72.18                 Uber         US                  US   \n",
      "\n",
      "       posEntryMode posConditionCode  ... merchantCity merchantState  \\\n",
      "0                02               01  ...                              \n",
      "1                09               01  ...                              \n",
      "2                09               01  ...                              \n",
      "3                09               01  ...                              \n",
      "4                02               01  ...                              \n",
      "...             ...              ...  ...          ...           ...   \n",
      "786358           90               01  ...                              \n",
      "786359           09               01  ...                              \n",
      "786360           02               01  ...                              \n",
      "786361           09               99  ...                              \n",
      "786362           05               01  ...                              \n",
      "\n",
      "       merchantZip cardPresent posOnPremises recurringAuthInd  \\\n",
      "0                        False                                  \n",
      "1                         True                                  \n",
      "2                        False                                  \n",
      "3                        False                                  \n",
      "4                         True                                  \n",
      "...            ...         ...           ...              ...   \n",
      "786358                   False                                  \n",
      "786359                   False                                  \n",
      "786360                   False                                  \n",
      "786361                   False                                  \n",
      "786362                   False                                  \n",
      "\n",
      "       expirationDateKeyInMatch isFraud transaction_hour  transaction_date  \n",
      "0                         False   False               14        2016-08-13  \n",
      "1                         False   False                5        2016-10-11  \n",
      "2                         False   False                9        2016-11-08  \n",
      "3                         False   False                2        2016-12-10  \n",
      "4                         False   False               21        2016-03-24  \n",
      "...                         ...     ...              ...               ...  \n",
      "786358                    False   False               18        2016-12-22  \n",
      "786359                    False   False               16        2016-12-25  \n",
      "786360                    False   False               15        2016-12-27  \n",
      "786361                    False   False                0        2016-12-29  \n",
      "786362                    False   False               20        2016-12-30  \n",
      "\n",
      "[786363 rows x 30 columns]\n"
     ]
    }
   ],
   "source": [
    "df_transactions = pd.DataFrame(data)\n",
    "\n",
    "# Convert transactionDateTime to datetime\n",
    "df_transactions['transactionDateTime'] = pd.to_datetime(df_transactions['transactionDateTime'])\n",
    "\n",
    "# 1. Extract Time of Day (Hour)\n",
    "df_transactions['transaction_hour'] = df_transactions['transactionDateTime'].dt.hour\n",
    "\n",
    "# 2. Extract Transaction Date\n",
    "df_transactions['transaction_date'] = df_transactions['transactionDateTime'].dt.date\n",
    "\n",
    "# Display the DataFrame with new features\n",
    "print(df_transactions) "
   ]
  },
  {
   "cell_type": "markdown",
   "id": "c1af8f36-ee74-46a2-9c08-11dcbe605da8",
   "metadata": {},
   "source": [
    "From the TransactionDateTime feature,  extracted the transaction hour and transaction date. These components are crucial for detecting fraudulent activities that may occur during specific peak hours, durations, or days. By breaking down the timestamp into these elements,  aim is to identify temporal patterns associated with fraudulent behavior."
   ]
  },
  {
   "cell_type": "code",
   "execution_count": 11,
   "id": "3041ca0f-53e0-4eb7-a158-385aa1cce869",
   "metadata": {},
   "outputs": [],
   "source": [
    "df = df_transactions.drop('transactionDateTime', axis=1) "
   ]
  },
  {
   "cell_type": "code",
   "execution_count": 12,
   "id": "4b67b8c2-1119-41de-a639-14d86a6526df",
   "metadata": {},
   "outputs": [
    {
     "data": {
      "text/plain": [
       "accountNumber                 5000\n",
       "creditLimit                     10\n",
       "availableMoney              521916\n",
       "transactionAmount            66038\n",
       "merchantName                  2490\n",
       "acqCountry                       5\n",
       "merchantCountryCode              5\n",
       "posEntryMode                     6\n",
       "posConditionCode                 4\n",
       "merchantCategoryCode            19\n",
       "currentExpDate                 165\n",
       "accountOpenDate               1820\n",
       "dateOfLastAddressChange       2184\n",
       "cardCVV                        899\n",
       "enteredCVV                     976\n",
       "cardLast4Digits               5246\n",
       "transactionType                  4\n",
       "echoBuffer                       1\n",
       "currentBalance              487318\n",
       "merchantCity                     1\n",
       "merchantState                    1\n",
       "merchantZip                      1\n",
       "cardPresent                      2\n",
       "posOnPremises                    1\n",
       "recurringAuthInd                 1\n",
       "expirationDateKeyInMatch         2\n",
       "isFraud                          2\n",
       "transaction_hour                24\n",
       "transaction_date               365\n",
       "dtype: int64"
      ]
     },
     "execution_count": 12,
     "metadata": {},
     "output_type": "execute_result"
    }
   ],
   "source": [
    "unique_counts = df.nunique() \n",
    "unique_counts "
   ]
  },
  {
   "cell_type": "code",
   "execution_count": 13,
   "id": "fb5fd6c0-51fc-4f43-8076-4b4e25444f19",
   "metadata": {},
   "outputs": [
    {
     "name": "stdout",
     "output_type": "stream",
     "text": [
      "Number of records: 786363\n",
      "Number of fields per record: 29\n"
     ]
    }
   ],
   "source": [
    "# Data Structure and Summary\n",
    "print(\"Number of records:\", df.shape[0])\n",
    "print(\"Number of fields per record:\", df.shape[1]) "
   ]
  },
  {
   "cell_type": "markdown",
   "id": "0ebca98b-e396-4851-afc1-7def53094a01",
   "metadata": {},
   "source": [
    "### 2.Data Wrangling Phase - Duplicate transactions :"
   ]
  },
  {
   "cell_type": "markdown",
   "id": "fc3e5b0f-5ed5-4c04-8abe-6f7476ab5571",
   "metadata": {},
   "source": [
    "You will notice a number of what look like duplicated transactions in the data set. One type of duplicated transaction is a reversed transaction, where a purchase is followed by a reversal. Another example is a multi-swipe, where a vendor accidentally charges a customer's card multiple times within a short time span."
   ]
  },
  {
   "cell_type": "markdown",
   "id": "161b55e1-1d58-4812-a451-7134afcab0c0",
   "metadata": {},
   "source": [
    "## Lets Explore Reverse transactions and see what patterns we find: "
   ]
  },
  {
   "cell_type": "code",
   "execution_count": 14,
   "id": "ceea0738-3b5c-403b-be42-a0296c23d3ce",
   "metadata": {},
   "outputs": [
    {
     "name": "stdout",
     "output_type": "stream",
     "text": [
      "Number of reversed_transactions  20303\n",
      "Total value of reversed_transactions $2821792.5\n"
     ]
    }
   ],
   "source": [
    "#Reversed Transaction\n",
    "\n",
    "reversed_transactions = df[df[\"transactionType\"]==\"REVERSAL\"]\n",
    "print(\"Number of reversed_transactions \", reversed_transactions.shape[0])\n",
    "print(\"Total value of reversed_transactions ${}\".format(round(sum(reversed_transactions.transactionAmount),2)))  "
   ]
  },
  {
   "cell_type": "markdown",
   "id": "fd620433-ff33-4ea2-a695-9f8d27ff69b8",
   "metadata": {},
   "source": [
    "A significant number of transactions (20,303) were reversed, indicating possible customer disputes or fraud detections. \n",
    "The total monetary value of these reversals is substantial ($2.82M), which could impact business operations and profitability.\n",
    "If this trend is recurring, it might warrant further investigation into the reasons behind these reversals. \n",
    "\n",
    "Are certain merchants or accounts frequently involved in reversals?\n",
    "Are specific transaction types or time periods more prone to reversals?\n",
    "\n",
    "lets see if its the case. "
   ]
  },
  {
   "cell_type": "markdown",
   "id": "fdaf3745-af3c-46bd-be27-0e3db0f02f1b",
   "metadata": {},
   "source": [
    "### Top Merchants Frequently Involved in Reversals"
   ]
  },
  {
   "cell_type": "code",
   "execution_count": 15,
   "id": "f48172e3-fe51-463b-8118-45dec07f2068",
   "metadata": {},
   "outputs": [
    {
     "name": "stdout",
     "output_type": "stream",
     "text": [
      "Top Merchants Involved in Reversals:\n",
      "merchantName\n",
      "Lyft           692\n",
      "Uber           689\n",
      "alibaba.com    499\n",
      "ebay.com       491\n",
      "oldnavy.com    488\n",
      "gap.com        484\n",
      "amazon.com     477\n",
      "staples.com    472\n",
      "target.com     469\n",
      "apple.com      460\n",
      "Name: count, dtype: int64\n"
     ]
    },
    {
     "name": "stderr",
     "output_type": "stream",
     "text": [
      "/var/folders/3_/spjvw8t50td0f_vwwrr6rs900000gn/T/ipykernel_77872/1495711005.py:9: FutureWarning: \n",
      "\n",
      "Passing `palette` without assigning `hue` is deprecated and will be removed in v0.14.0. Assign the `y` variable to `hue` and set `legend=False` for the same effect.\n",
      "\n",
      "  sns.barplot(x=top_merchants.values, y=top_merchants.index, palette='viridis')\n"
     ]
    },
    {
     "data": {
      "image/png": "[encoded data removed]",
      "text/plain": [
       "<Figure size 1000x600 with 1 Axes>"
      ]
     },
     "metadata": {},
     "output_type": "display_data"
    }
   ],
   "source": [
    "top_merchants = reversed_transactions['merchantName'].value_counts().head(10)\n",
    "print(\"Top Merchants Involved in Reversals:\")\n",
    "print(top_merchants) \n",
    "\n",
    "import matplotlib.pyplot as plt\n",
    "import seaborn as sns\n",
    "\n",
    "plt.figure(figsize=(10, 6))\n",
    "sns.barplot(x=top_merchants.values, y=top_merchants.index, palette='viridis')\n",
    "plt.title('Top Merchants Involved in Reversed Transactions', fontsize=16)\n",
    "plt.xlabel('Number of Reversals', fontsize=12)\n",
    "plt.ylabel('Merchant Name', fontsize=12)\n",
    "plt.show() "
   ]
  },
  {
   "cell_type": "markdown",
   "id": "33d65f53-0629-458d-8378-e36332246445",
   "metadata": {},
   "source": [
    "### Top Accounts Frequently Involved in Reversals"
   ]
  },
  {
   "cell_type": "code",
   "execution_count": 16,
   "id": "799557e5-5031-4125-8ca1-af67d729f5f4",
   "metadata": {},
   "outputs": [
    {
     "name": "stdout",
     "output_type": "stream",
     "text": [
      "Top Accounts Involved in Reversals:\n",
      "accountNumber\n",
      "380680241    907\n",
      "882815134    384\n",
      "570884863    300\n",
      "246251253    277\n",
      "369308035    211\n",
      "894938833    181\n",
      "832842201    177\n",
      "724518977    173\n",
      "419709514    171\n",
      "208319653    148\n",
      "Name: count, dtype: int64\n"
     ]
    },
    {
     "name": "stderr",
     "output_type": "stream",
     "text": [
      "/var/folders/3_/spjvw8t50td0f_vwwrr6rs900000gn/T/ipykernel_77872/4184200333.py:6: FutureWarning: \n",
      "\n",
      "Passing `palette` without assigning `hue` is deprecated and will be removed in v0.14.0. Assign the `y` variable to `hue` and set `legend=False` for the same effect.\n",
      "\n",
      "  sns.barplot(x=top_accounts.values, y=top_accounts.index, palette='plasma')\n"
     ]
    },
    {
     "data": {
      "image/png": "[encoded data removed]",
      "text/plain": [
       "<Figure size 1000x600 with 1 Axes>"
      ]
     },
     "metadata": {},
     "output_type": "display_data"
    }
   ],
   "source": [
    "top_accounts = reversed_transactions['accountNumber'].value_counts().head(10)\n",
    "print(\"Top Accounts Involved in Reversals:\")\n",
    "print(top_accounts) \n",
    "\n",
    "plt.figure(figsize=(10, 6))\n",
    "sns.barplot(x=top_accounts.values, y=top_accounts.index, palette='plasma')\n",
    "plt.title('Top Accounts Involved in Reversed Transactions', fontsize=16)\n",
    "plt.xlabel('Number of Reversals', fontsize=12)\n",
    "plt.ylabel('Account Number', fontsize=12)\n",
    "plt.show() "
   ]
  },
  {
   "cell_type": "code",
   "execution_count": 17,
   "id": "f5d8215c-aacd-405a-827c-7908bf528b74",
   "metadata": {},
   "outputs": [
    {
     "name": "stdout",
     "output_type": "stream",
     "text": [
      "Number of multiswipe_transcations 6\n",
      "Total Amount for Multiswipe Transaction  1044.109999999404 $\n"
     ]
    }
   ],
   "source": [
    "#MultiSwipe Transaction\n",
    "#Logic for a MultiSwipe transaction ==> accountNumber,date, merchantName and Hour should be same\n",
    "\n",
    "multiswipe_transcations = pd.DataFrame(df.groupby([\"accountNumber\",\"transaction_date\",\"merchantName\",\"transaction_hour\"]).head())\n",
    "print(\"Number of multiswipe_transcations\",df.shape[0] - multiswipe_transcations.shape[0])\n",
    "print(\"Total Amount for Multiswipe Transaction \",sum(df.transactionAmount) - sum(multiswipe_transcations.transactionAmount),\"$\") "
   ]
  },
  {
   "cell_type": "markdown",
   "id": "e4a269c1-f57a-415c-a6eb-880400add3ec",
   "metadata": {},
   "source": [
    "Only 6 transactions fall under the multi-swipe category, indicating that this is a relatively rare occurrence in the dataset.\n",
    "The total monetary value associated with these transactions is $1,044.11, which is not a significant percentage of the overall transaction amounts. Hence, we can keep a hold on further analysis for multiswipe transactions."
   ]
  },
  {
   "cell_type": "markdown",
   "id": "99cbc1b7-7708-41ca-a3fd-e4ece9ccd608",
   "metadata": {},
   "source": [
    "### Visualization of Transaction Amounts "
   ]
  },
  {
   "cell_type": "code",
   "execution_count": 18,
   "id": "ae13de89-cf5b-4a56-ae80-289c56800cce",
   "metadata": {},
   "outputs": [
    {
     "data": {
      "image/png": "[encoded data removed]",
      "text/plain": [
       "<Figure size 1000x600 with 1 Axes>"
      ]
     },
     "metadata": {},
     "output_type": "display_data"
    },
    {
     "name": "stdout",
     "output_type": "stream",
     "text": [
      "Transaction Amount Summary:\n",
      "count    786363.000000\n",
      "mean        136.985791\n",
      "std         147.725569\n",
      "min           0.000000\n",
      "25%          33.650000\n",
      "50%          87.900000\n",
      "75%         191.480000\n",
      "max        2011.540000\n",
      "Name: transactionAmount, dtype: float64\n"
     ]
    }
   ],
   "source": [
    "import matplotlib.pyplot as plt\n",
    "\n",
    "# Plot histogram for transactionAmount\n",
    "plt.figure(figsize=(10, 6))\n",
    "plt.hist(df[\"transactionAmount\"], bins=50, color='blue', edgecolor='black', alpha=0.7)\n",
    "plt.title(\"Histogram of Transaction Amounts\")\n",
    "plt.xlabel(\"Transaction Amount\")\n",
    "plt.ylabel(\"Frequency\")\n",
    "plt.grid(True)\n",
    "plt.show()\n",
    "\n",
    "# Statistical description of transactionAmount\n",
    "transaction_stats = df[\"transactionAmount\"].describe()\n",
    "print(\"Transaction Amount Summary:\")\n",
    "print(transaction_stats)  "
   ]
  },
  {
   "cell_type": "markdown",
   "id": "12593903-c60f-409b-be68-c58702591570",
   "metadata": {},
   "source": [
    "The histogram above illustrates the distribution of transaction amounts and their frequency. The data shows that transaction peaks occur predominantly for amounts less than **250,** with a mean transaction value of **136.** Additionally, **75%** of users spend **191** or less on their transactions, indicating that the majority of users make transactions below **200**."
   ]
  },
  {
   "cell_type": "code",
   "execution_count": 29,
   "id": "b1841682-7e67-4285-bb1d-ac89d420b2e2",
   "metadata": {},
   "outputs": [
    {
     "data": {
      "text/html": [
       "<div>\n",
       "<style scoped>\n",
       "    .dataframe tbody tr th:only-of-type {\n",
       "        vertical-align: middle;\n",
       "    }\n",
       "\n",
       "    .dataframe tbody tr th {\n",
       "        vertical-align: top;\n",
       "    }\n",
       "\n",
       "    .dataframe thead th {\n",
       "        text-align: right;\n",
       "    }\n",
       "</style>\n",
       "<table border=\"1\" class=\"dataframe\">\n",
       "  <thead>\n",
       "    <tr style=\"text-align: right;\">\n",
       "      <th></th>\n",
       "      <th>accountNumber</th>\n",
       "      <th>creditLimit</th>\n",
       "      <th>availableMoney</th>\n",
       "      <th>transactionAmount</th>\n",
       "      <th>merchantName</th>\n",
       "      <th>acqCountry</th>\n",
       "      <th>merchantCountryCode</th>\n",
       "      <th>posEntryMode</th>\n",
       "      <th>accountOpenDate</th>\n",
       "      <th>transactionType</th>\n",
       "      <th>currentBalance</th>\n",
       "      <th>cardPresent</th>\n",
       "      <th>expirationDateKeyInMatch</th>\n",
       "      <th>isFraud</th>\n",
       "      <th>transaction_hour</th>\n",
       "      <th>transaction_date</th>\n",
       "    </tr>\n",
       "  </thead>\n",
       "  <tbody>\n",
       "    <tr>\n",
       "      <th>0</th>\n",
       "      <td>737265056</td>\n",
       "      <td>5000.0</td>\n",
       "      <td>5000.00</td>\n",
       "      <td>98.55</td>\n",
       "      <td>Uber</td>\n",
       "      <td>US</td>\n",
       "      <td>US</td>\n",
       "      <td>02</td>\n",
       "      <td>2015-03-14</td>\n",
       "      <td>PURCHASE</td>\n",
       "      <td>0.00</td>\n",
       "      <td>False</td>\n",
       "      <td>False</td>\n",
       "      <td>False</td>\n",
       "      <td>14</td>\n",
       "      <td>2016-08-13</td>\n",
       "    </tr>\n",
       "    <tr>\n",
       "      <th>1</th>\n",
       "      <td>737265056</td>\n",
       "      <td>5000.0</td>\n",
       "      <td>5000.00</td>\n",
       "      <td>74.51</td>\n",
       "      <td>AMC #191138</td>\n",
       "      <td>US</td>\n",
       "      <td>US</td>\n",
       "      <td>09</td>\n",
       "      <td>2015-03-14</td>\n",
       "      <td>PURCHASE</td>\n",
       "      <td>0.00</td>\n",
       "      <td>True</td>\n",
       "      <td>False</td>\n",
       "      <td>False</td>\n",
       "      <td>5</td>\n",
       "      <td>2016-10-11</td>\n",
       "    </tr>\n",
       "    <tr>\n",
       "      <th>2</th>\n",
       "      <td>737265056</td>\n",
       "      <td>5000.0</td>\n",
       "      <td>5000.00</td>\n",
       "      <td>7.47</td>\n",
       "      <td>Play Store</td>\n",
       "      <td>US</td>\n",
       "      <td>US</td>\n",
       "      <td>09</td>\n",
       "      <td>2015-03-14</td>\n",
       "      <td>PURCHASE</td>\n",
       "      <td>0.00</td>\n",
       "      <td>False</td>\n",
       "      <td>False</td>\n",
       "      <td>False</td>\n",
       "      <td>9</td>\n",
       "      <td>2016-11-08</td>\n",
       "    </tr>\n",
       "    <tr>\n",
       "      <th>3</th>\n",
       "      <td>737265056</td>\n",
       "      <td>5000.0</td>\n",
       "      <td>5000.00</td>\n",
       "      <td>7.47</td>\n",
       "      <td>Play Store</td>\n",
       "      <td>US</td>\n",
       "      <td>US</td>\n",
       "      <td>09</td>\n",
       "      <td>2015-03-14</td>\n",
       "      <td>PURCHASE</td>\n",
       "      <td>0.00</td>\n",
       "      <td>False</td>\n",
       "      <td>False</td>\n",
       "      <td>False</td>\n",
       "      <td>2</td>\n",
       "      <td>2016-12-10</td>\n",
       "    </tr>\n",
       "    <tr>\n",
       "      <th>4</th>\n",
       "      <td>830329091</td>\n",
       "      <td>5000.0</td>\n",
       "      <td>5000.00</td>\n",
       "      <td>71.18</td>\n",
       "      <td>Tim Hortons #947751</td>\n",
       "      <td>US</td>\n",
       "      <td>US</td>\n",
       "      <td>02</td>\n",
       "      <td>2015-08-06</td>\n",
       "      <td>PURCHASE</td>\n",
       "      <td>0.00</td>\n",
       "      <td>True</td>\n",
       "      <td>False</td>\n",
       "      <td>False</td>\n",
       "      <td>21</td>\n",
       "      <td>2016-03-24</td>\n",
       "    </tr>\n",
       "    <tr>\n",
       "      <th>...</th>\n",
       "      <td>...</td>\n",
       "      <td>...</td>\n",
       "      <td>...</td>\n",
       "      <td>...</td>\n",
       "      <td>...</td>\n",
       "      <td>...</td>\n",
       "      <td>...</td>\n",
       "      <td>...</td>\n",
       "      <td>...</td>\n",
       "      <td>...</td>\n",
       "      <td>...</td>\n",
       "      <td>...</td>\n",
       "      <td>...</td>\n",
       "      <td>...</td>\n",
       "      <td>...</td>\n",
       "      <td>...</td>\n",
       "    </tr>\n",
       "    <tr>\n",
       "      <th>786358</th>\n",
       "      <td>732852505</td>\n",
       "      <td>50000.0</td>\n",
       "      <td>48904.96</td>\n",
       "      <td>119.92</td>\n",
       "      <td>Lyft</td>\n",
       "      <td>US</td>\n",
       "      <td>US</td>\n",
       "      <td>90</td>\n",
       "      <td>2012-08-23</td>\n",
       "      <td>PURCHASE</td>\n",
       "      <td>1095.04</td>\n",
       "      <td>False</td>\n",
       "      <td>False</td>\n",
       "      <td>False</td>\n",
       "      <td>18</td>\n",
       "      <td>2016-12-22</td>\n",
       "    </tr>\n",
       "    <tr>\n",
       "      <th>786359</th>\n",
       "      <td>732852505</td>\n",
       "      <td>50000.0</td>\n",
       "      <td>48785.04</td>\n",
       "      <td>18.89</td>\n",
       "      <td>hulu.com</td>\n",
       "      <td>US</td>\n",
       "      <td>US</td>\n",
       "      <td>09</td>\n",
       "      <td>2012-08-23</td>\n",
       "      <td>PURCHASE</td>\n",
       "      <td>1214.96</td>\n",
       "      <td>False</td>\n",
       "      <td>False</td>\n",
       "      <td>False</td>\n",
       "      <td>16</td>\n",
       "      <td>2016-12-25</td>\n",
       "    </tr>\n",
       "    <tr>\n",
       "      <th>786360</th>\n",
       "      <td>732852505</td>\n",
       "      <td>50000.0</td>\n",
       "      <td>48766.15</td>\n",
       "      <td>49.43</td>\n",
       "      <td>Lyft</td>\n",
       "      <td>US</td>\n",
       "      <td>US</td>\n",
       "      <td>02</td>\n",
       "      <td>2012-08-23</td>\n",
       "      <td>PURCHASE</td>\n",
       "      <td>1233.85</td>\n",
       "      <td>False</td>\n",
       "      <td>False</td>\n",
       "      <td>False</td>\n",
       "      <td>15</td>\n",
       "      <td>2016-12-27</td>\n",
       "    </tr>\n",
       "    <tr>\n",
       "      <th>786361</th>\n",
       "      <td>732852505</td>\n",
       "      <td>50000.0</td>\n",
       "      <td>48716.72</td>\n",
       "      <td>49.89</td>\n",
       "      <td>walmart.com</td>\n",
       "      <td>US</td>\n",
       "      <td>US</td>\n",
       "      <td>09</td>\n",
       "      <td>2012-08-23</td>\n",
       "      <td>PURCHASE</td>\n",
       "      <td>1283.28</td>\n",
       "      <td>False</td>\n",
       "      <td>False</td>\n",
       "      <td>False</td>\n",
       "      <td>0</td>\n",
       "      <td>2016-12-29</td>\n",
       "    </tr>\n",
       "    <tr>\n",
       "      <th>786362</th>\n",
       "      <td>732852505</td>\n",
       "      <td>50000.0</td>\n",
       "      <td>48666.83</td>\n",
       "      <td>72.18</td>\n",
       "      <td>Uber</td>\n",
       "      <td>US</td>\n",
       "      <td>US</td>\n",
       "      <td>05</td>\n",
       "      <td>2012-08-23</td>\n",
       "      <td>PURCHASE</td>\n",
       "      <td>1333.17</td>\n",
       "      <td>False</td>\n",
       "      <td>False</td>\n",
       "      <td>False</td>\n",
       "      <td>20</td>\n",
       "      <td>2016-12-30</td>\n",
       "    </tr>\n",
       "  </tbody>\n",
       "</table>\n",
       "<p>786363 rows × 16 columns</p>\n",
       "</div>"
      ],
      "text/plain": [
       "       accountNumber  creditLimit  availableMoney  transactionAmount  \\\n",
       "0          737265056       5000.0         5000.00              98.55   \n",
       "1          737265056       5000.0         5000.00              74.51   \n",
       "2          737265056       5000.0         5000.00               7.47   \n",
       "3          737265056       5000.0         5000.00               7.47   \n",
       "4          830329091       5000.0         5000.00              71.18   \n",
       "...              ...          ...             ...                ...   \n",
       "786358     732852505      50000.0        48904.96             119.92   \n",
       "786359     732852505      50000.0        48785.04              18.89   \n",
       "786360     732852505      50000.0        48766.15              49.43   \n",
       "786361     732852505      50000.0        48716.72              49.89   \n",
       "786362     732852505      50000.0        48666.83              72.18   \n",
       "\n",
       "               merchantName acqCountry merchantCountryCode posEntryMode  \\\n",
       "0                      Uber         US                  US           02   \n",
       "1               AMC #191138         US                  US           09   \n",
       "2                Play Store         US                  US           09   \n",
       "3                Play Store         US                  US           09   \n",
       "4       Tim Hortons #947751         US                  US           02   \n",
       "...                     ...        ...                 ...          ...   \n",
       "786358                 Lyft         US                  US           90   \n",
       "786359             hulu.com         US                  US           09   \n",
       "786360                 Lyft         US                  US           02   \n",
       "786361          walmart.com         US                  US           09   \n",
       "786362                 Uber         US                  US           05   \n",
       "\n",
       "       accountOpenDate transactionType  currentBalance  cardPresent  \\\n",
       "0           2015-03-14        PURCHASE            0.00        False   \n",
       "1           2015-03-14        PURCHASE            0.00         True   \n",
       "2           2015-03-14        PURCHASE            0.00        False   \n",
       "3           2015-03-14        PURCHASE            0.00        False   \n",
       "4           2015-08-06        PURCHASE            0.00         True   \n",
       "...                ...             ...             ...          ...   \n",
       "786358      2012-08-23        PURCHASE         1095.04        False   \n",
       "786359      2012-08-23        PURCHASE         1214.96        False   \n",
       "786360      2012-08-23        PURCHASE         1233.85        False   \n",
       "786361      2012-08-23        PURCHASE         1283.28        False   \n",
       "786362      2012-08-23        PURCHASE         1333.17        False   \n",
       "\n",
       "        expirationDateKeyInMatch  isFraud  transaction_hour transaction_date  \n",
       "0                          False    False                14       2016-08-13  \n",
       "1                          False    False                 5       2016-10-11  \n",
       "2                          False    False                 9       2016-11-08  \n",
       "3                          False    False                 2       2016-12-10  \n",
       "4                          False    False                21       2016-03-24  \n",
       "...                          ...      ...               ...              ...  \n",
       "786358                     False    False                18       2016-12-22  \n",
       "786359                     False    False                16       2016-12-25  \n",
       "786360                     False    False                15       2016-12-27  \n",
       "786361                     False    False                 0       2016-12-29  \n",
       "786362                     False    False                20       2016-12-30  \n",
       "\n",
       "[786363 rows x 16 columns]"
      ]
     },
     "execution_count": 29,
     "metadata": {},
     "output_type": "execute_result"
    }
   ],
   "source": [
    "# Remove the specified columns\n",
    "columns_to_remove = ['cardLast4Digits', 'cardCVV', 'merchantCategoryCode','dateOfLastAddressChange', 'transactionDateTime', 'echoBuffer', 'enteredCVV','merchantCity', 'posConditionCode','currentExpDate', 'merchantState','merchantZip','posOnPremises','recurringAuthInd']\n",
    "df_cleaned = df.drop(columns=columns_to_remove, errors='ignore') \n",
    "df_cleaned "
   ]
  },
  {
   "cell_type": "code",
   "execution_count": 30,
   "id": "9ca0ac3b-cbff-47be-b138-f73d993481da",
   "metadata": {},
   "outputs": [
    {
     "data": {
      "text/html": [
       "<div>\n",
       "<style scoped>\n",
       "    .dataframe tbody tr th:only-of-type {\n",
       "        vertical-align: middle;\n",
       "    }\n",
       "\n",
       "    .dataframe tbody tr th {\n",
       "        vertical-align: top;\n",
       "    }\n",
       "\n",
       "    .dataframe thead th {\n",
       "        text-align: right;\n",
       "    }\n",
       "</style>\n",
       "<table border=\"1\" class=\"dataframe\">\n",
       "  <thead>\n",
       "    <tr style=\"text-align: right;\">\n",
       "      <th></th>\n",
       "      <th>accountNumber</th>\n",
       "      <th>creditLimit</th>\n",
       "      <th>availableMoney</th>\n",
       "      <th>transactionAmount</th>\n",
       "      <th>merchantName</th>\n",
       "      <th>acqCountry</th>\n",
       "      <th>merchantCountryCode</th>\n",
       "      <th>posEntryMode</th>\n",
       "      <th>accountOpenDate</th>\n",
       "      <th>transactionType</th>\n",
       "      <th>currentBalance</th>\n",
       "      <th>cardPresent</th>\n",
       "      <th>expirationDateKeyInMatch</th>\n",
       "      <th>isFraud</th>\n",
       "      <th>transaction_hour</th>\n",
       "      <th>transaction_date</th>\n",
       "    </tr>\n",
       "  </thead>\n",
       "  <tbody>\n",
       "    <tr>\n",
       "      <th>0</th>\n",
       "      <td>737265056</td>\n",
       "      <td>5000.0</td>\n",
       "      <td>5000.00</td>\n",
       "      <td>98.55</td>\n",
       "      <td>2086</td>\n",
       "      <td>4</td>\n",
       "      <td>4</td>\n",
       "      <td>1</td>\n",
       "      <td>2015-03-14</td>\n",
       "      <td>2</td>\n",
       "      <td>0.00</td>\n",
       "      <td>False</td>\n",
       "      <td>False</td>\n",
       "      <td>False</td>\n",
       "      <td>14</td>\n",
       "      <td>2016-08-13</td>\n",
       "    </tr>\n",
       "    <tr>\n",
       "      <th>1</th>\n",
       "      <td>737265056</td>\n",
       "      <td>5000.0</td>\n",
       "      <td>5000.00</td>\n",
       "      <td>74.51</td>\n",
       "      <td>27</td>\n",
       "      <td>4</td>\n",
       "      <td>4</td>\n",
       "      <td>3</td>\n",
       "      <td>2015-03-14</td>\n",
       "      <td>2</td>\n",
       "      <td>0.00</td>\n",
       "      <td>True</td>\n",
       "      <td>False</td>\n",
       "      <td>False</td>\n",
       "      <td>5</td>\n",
       "      <td>2016-10-11</td>\n",
       "    </tr>\n",
       "    <tr>\n",
       "      <th>2</th>\n",
       "      <td>737265056</td>\n",
       "      <td>5000.0</td>\n",
       "      <td>5000.00</td>\n",
       "      <td>7.47</td>\n",
       "      <td>1305</td>\n",
       "      <td>4</td>\n",
       "      <td>4</td>\n",
       "      <td>3</td>\n",
       "      <td>2015-03-14</td>\n",
       "      <td>2</td>\n",
       "      <td>0.00</td>\n",
       "      <td>False</td>\n",
       "      <td>False</td>\n",
       "      <td>False</td>\n",
       "      <td>9</td>\n",
       "      <td>2016-11-08</td>\n",
       "    </tr>\n",
       "    <tr>\n",
       "      <th>3</th>\n",
       "      <td>737265056</td>\n",
       "      <td>5000.0</td>\n",
       "      <td>5000.00</td>\n",
       "      <td>7.47</td>\n",
       "      <td>1305</td>\n",
       "      <td>4</td>\n",
       "      <td>4</td>\n",
       "      <td>3</td>\n",
       "      <td>2015-03-14</td>\n",
       "      <td>2</td>\n",
       "      <td>0.00</td>\n",
       "      <td>False</td>\n",
       "      <td>False</td>\n",
       "      <td>False</td>\n",
       "      <td>2</td>\n",
       "      <td>2016-12-10</td>\n",
       "    </tr>\n",
       "    <tr>\n",
       "      <th>4</th>\n",
       "      <td>830329091</td>\n",
       "      <td>5000.0</td>\n",
       "      <td>5000.00</td>\n",
       "      <td>71.18</td>\n",
       "      <td>2084</td>\n",
       "      <td>4</td>\n",
       "      <td>4</td>\n",
       "      <td>1</td>\n",
       "      <td>2015-08-06</td>\n",
       "      <td>2</td>\n",
       "      <td>0.00</td>\n",
       "      <td>True</td>\n",
       "      <td>False</td>\n",
       "      <td>False</td>\n",
       "      <td>21</td>\n",
       "      <td>2016-03-24</td>\n",
       "    </tr>\n",
       "    <tr>\n",
       "      <th>...</th>\n",
       "      <td>...</td>\n",
       "      <td>...</td>\n",
       "      <td>...</td>\n",
       "      <td>...</td>\n",
       "      <td>...</td>\n",
       "      <td>...</td>\n",
       "      <td>...</td>\n",
       "      <td>...</td>\n",
       "      <td>...</td>\n",
       "      <td>...</td>\n",
       "      <td>...</td>\n",
       "      <td>...</td>\n",
       "      <td>...</td>\n",
       "      <td>...</td>\n",
       "      <td>...</td>\n",
       "      <td>...</td>\n",
       "    </tr>\n",
       "    <tr>\n",
       "      <th>786358</th>\n",
       "      <td>732852505</td>\n",
       "      <td>50000.0</td>\n",
       "      <td>48904.96</td>\n",
       "      <td>119.92</td>\n",
       "      <td>1061</td>\n",
       "      <td>4</td>\n",
       "      <td>4</td>\n",
       "      <td>5</td>\n",
       "      <td>2012-08-23</td>\n",
       "      <td>2</td>\n",
       "      <td>1095.04</td>\n",
       "      <td>False</td>\n",
       "      <td>False</td>\n",
       "      <td>False</td>\n",
       "      <td>18</td>\n",
       "      <td>2016-12-22</td>\n",
       "    </tr>\n",
       "    <tr>\n",
       "      <th>786359</th>\n",
       "      <td>732852505</td>\n",
       "      <td>50000.0</td>\n",
       "      <td>48785.04</td>\n",
       "      <td>18.89</td>\n",
       "      <td>2479</td>\n",
       "      <td>4</td>\n",
       "      <td>4</td>\n",
       "      <td>3</td>\n",
       "      <td>2012-08-23</td>\n",
       "      <td>2</td>\n",
       "      <td>1214.96</td>\n",
       "      <td>False</td>\n",
       "      <td>False</td>\n",
       "      <td>False</td>\n",
       "      <td>16</td>\n",
       "      <td>2016-12-25</td>\n",
       "    </tr>\n",
       "    <tr>\n",
       "      <th>786360</th>\n",
       "      <td>732852505</td>\n",
       "      <td>50000.0</td>\n",
       "      <td>48766.15</td>\n",
       "      <td>49.43</td>\n",
       "      <td>1061</td>\n",
       "      <td>4</td>\n",
       "      <td>4</td>\n",
       "      <td>1</td>\n",
       "      <td>2012-08-23</td>\n",
       "      <td>2</td>\n",
       "      <td>1233.85</td>\n",
       "      <td>False</td>\n",
       "      <td>False</td>\n",
       "      <td>False</td>\n",
       "      <td>15</td>\n",
       "      <td>2016-12-27</td>\n",
       "    </tr>\n",
       "    <tr>\n",
       "      <th>786361</th>\n",
       "      <td>732852505</td>\n",
       "      <td>50000.0</td>\n",
       "      <td>48716.72</td>\n",
       "      <td>49.89</td>\n",
       "      <td>2487</td>\n",
       "      <td>4</td>\n",
       "      <td>4</td>\n",
       "      <td>3</td>\n",
       "      <td>2012-08-23</td>\n",
       "      <td>2</td>\n",
       "      <td>1283.28</td>\n",
       "      <td>False</td>\n",
       "      <td>False</td>\n",
       "      <td>False</td>\n",
       "      <td>0</td>\n",
       "      <td>2016-12-29</td>\n",
       "    </tr>\n",
       "    <tr>\n",
       "      <th>786362</th>\n",
       "      <td>732852505</td>\n",
       "      <td>50000.0</td>\n",
       "      <td>48666.83</td>\n",
       "      <td>72.18</td>\n",
       "      <td>2086</td>\n",
       "      <td>4</td>\n",
       "      <td>4</td>\n",
       "      <td>2</td>\n",
       "      <td>2012-08-23</td>\n",
       "      <td>2</td>\n",
       "      <td>1333.17</td>\n",
       "      <td>False</td>\n",
       "      <td>False</td>\n",
       "      <td>False</td>\n",
       "      <td>20</td>\n",
       "      <td>2016-12-30</td>\n",
       "    </tr>\n",
       "  </tbody>\n",
       "</table>\n",
       "<p>786363 rows × 16 columns</p>\n",
       "</div>"
      ],
      "text/plain": [
       "       accountNumber  creditLimit  availableMoney  transactionAmount  \\\n",
       "0          737265056       5000.0         5000.00              98.55   \n",
       "1          737265056       5000.0         5000.00              74.51   \n",
       "2          737265056       5000.0         5000.00               7.47   \n",
       "3          737265056       5000.0         5000.00               7.47   \n",
       "4          830329091       5000.0         5000.00              71.18   \n",
       "...              ...          ...             ...                ...   \n",
       "786358     732852505      50000.0        48904.96             119.92   \n",
       "786359     732852505      50000.0        48785.04              18.89   \n",
       "786360     732852505      50000.0        48766.15              49.43   \n",
       "786361     732852505      50000.0        48716.72              49.89   \n",
       "786362     732852505      50000.0        48666.83              72.18   \n",
       "\n",
       "        merchantName  acqCountry  merchantCountryCode  posEntryMode  \\\n",
       "0               2086           4                    4             1   \n",
       "1                 27           4                    4             3   \n",
       "2               1305           4                    4             3   \n",
       "3               1305           4                    4             3   \n",
       "4               2084           4                    4             1   \n",
       "...              ...         ...                  ...           ...   \n",
       "786358          1061           4                    4             5   \n",
       "786359          2479           4                    4             3   \n",
       "786360          1061           4                    4             1   \n",
       "786361          2487           4                    4             3   \n",
       "786362          2086           4                    4             2   \n",
       "\n",
       "       accountOpenDate  transactionType  currentBalance  cardPresent  \\\n",
       "0           2015-03-14                2            0.00        False   \n",
       "1           2015-03-14                2            0.00         True   \n",
       "2           2015-03-14                2            0.00        False   \n",
       "3           2015-03-14                2            0.00        False   \n",
       "4           2015-08-06                2            0.00         True   \n",
       "...                ...              ...             ...          ...   \n",
       "786358      2012-08-23                2         1095.04        False   \n",
       "786359      2012-08-23                2         1214.96        False   \n",
       "786360      2012-08-23                2         1233.85        False   \n",
       "786361      2012-08-23                2         1283.28        False   \n",
       "786362      2012-08-23                2         1333.17        False   \n",
       "\n",
       "        expirationDateKeyInMatch  isFraud  transaction_hour transaction_date  \n",
       "0                          False    False                14       2016-08-13  \n",
       "1                          False    False                 5       2016-10-11  \n",
       "2                          False    False                 9       2016-11-08  \n",
       "3                          False    False                 2       2016-12-10  \n",
       "4                          False    False                21       2016-03-24  \n",
       "...                          ...      ...               ...              ...  \n",
       "786358                     False    False                18       2016-12-22  \n",
       "786359                     False    False                16       2016-12-25  \n",
       "786360                     False    False                15       2016-12-27  \n",
       "786361                     False    False                 0       2016-12-29  \n",
       "786362                     False    False                20       2016-12-30  \n",
       "\n",
       "[786363 rows x 16 columns]"
      ]
     },
     "execution_count": 30,
     "metadata": {},
     "output_type": "execute_result"
    }
   ],
   "source": [
    "from sklearn.preprocessing import LabelEncoder\n",
    "\n",
    "# Initialize the encoder\n",
    "encoder = LabelEncoder()\n",
    "\n",
    "# List of categorical columns to encode\n",
    "categorical_columns = ['merchantName', 'acqCountry', 'merchantCountryCode', 'posEntryMode', 'transactionType']\n",
    "\n",
    "# Apply LabelEncoder to each categorical column\n",
    "for col in categorical_columns:\n",
    "    df_cleaned[col] = encoder.fit_transform(df_cleaned[col])\n",
    "\n",
    "# Display the first few rows of the encoded data\n",
    "df_cleaned "
   ]
  },
  {
   "cell_type": "markdown",
   "id": "0a7cb8fe-ae6d-442d-9378-2d8e48c66b89",
   "metadata": {},
   "source": [
    "#### Converting all the variables to numeric format so we can incorporate them into our model:"
   ]
  },
  {
   "cell_type": "code",
   "execution_count": 31,
   "id": "f31c6479-95ed-4782-bfb7-71012dec4ec1",
   "metadata": {},
   "outputs": [
    {
     "name": "stdout",
     "output_type": "stream",
     "text": [
      "accountNumber                object\n",
      "creditLimit                 float64\n",
      "availableMoney              float64\n",
      "transactionAmount           float64\n",
      "merchantName                  int64\n",
      "acqCountry                    int64\n",
      "merchantCountryCode           int64\n",
      "posEntryMode                  int64\n",
      "accountOpenDate              object\n",
      "transactionType               int64\n",
      "currentBalance              float64\n",
      "cardPresent                    bool\n",
      "expirationDateKeyInMatch       bool\n",
      "isFraud                        bool\n",
      "transaction_hour              int32\n",
      "transaction_year              int32\n",
      "transaction_month             int32\n",
      "transaction_day               int32\n",
      "dtype: object\n"
     ]
    }
   ],
   "source": [
    "import pandas as pd\n",
    "\n",
    "# Ensure transaction_date and accountOpenDate are in datetime format\n",
    "df_cleaned['transaction_date'] = pd.to_datetime(df_cleaned['transaction_date'], errors='coerce')\n",
    "\n",
    "# Extract features from transaction_date\n",
    "df_cleaned['transaction_year'] = df_cleaned['transaction_date'].dt.year\n",
    "df_cleaned['transaction_month'] = df_cleaned['transaction_date'].dt.month\n",
    "df_cleaned['transaction_day'] = df_cleaned['transaction_date'].dt.day\n",
    "\n",
    "# Drop transaction_date if no longer needed\n",
    "df_cleaned.drop(['transaction_date'], axis=1, inplace=True)\n",
    "\n",
    "# Verify that all remaining features are numeric\n",
    "print(df_cleaned.dtypes) \n"
   ]
  },
  {
   "cell_type": "code",
   "execution_count": 32,
   "id": "759a42af-3036-4e54-bb44-755211f7a6f6",
   "metadata": {},
   "outputs": [
    {
     "name": "stdout",
     "output_type": "stream",
     "text": [
      "  accountNumber  creditLimit  availableMoney  transactionAmount  merchantName  \\\n",
      "0     737265056       5000.0          5000.0              98.55          2086   \n",
      "1     737265056       5000.0          5000.0              74.51            27   \n",
      "2     737265056       5000.0          5000.0               7.47          1305   \n",
      "3     737265056       5000.0          5000.0               7.47          1305   \n",
      "4     830329091       5000.0          5000.0              71.18          2084   \n",
      "\n",
      "   acqCountry  merchantCountryCode  posEntryMode  transactionType  \\\n",
      "0           4                    4             1                2   \n",
      "1           4                    4             3                2   \n",
      "2           4                    4             3                2   \n",
      "3           4                    4             3                2   \n",
      "4           4                    4             1                2   \n",
      "\n",
      "   currentBalance  cardPresent  expirationDateKeyInMatch  isFraud  \\\n",
      "0             0.0            0                         0        0   \n",
      "1             0.0            1                         0        0   \n",
      "2             0.0            0                         0        0   \n",
      "3             0.0            0                         0        0   \n",
      "4             0.0            1                         0        0   \n",
      "\n",
      "   transaction_hour  transaction_year  transaction_month  transaction_day  \n",
      "0                14              2016                  8               13  \n",
      "1                 5              2016                 10               11  \n",
      "2                 9              2016                 11                8  \n",
      "3                 2              2016                 12               10  \n",
      "4                21              2016                  3               24  \n"
     ]
    }
   ],
   "source": [
    "# Convert binary columns to 0 and 1\n",
    "binary_columns = ['expirationDateKeyInMatch', 'isFraud', 'cardPresent']\n",
    "\n",
    "for col in binary_columns:\n",
    "    df_cleaned[col] = df_cleaned[col].astype(int)\n",
    "\n",
    "df_cleaned = df_cleaned.drop(columns=['accountOpenDate', 'transaction_date'], errors='ignore')\n",
    "\n",
    "# Display the first few rows of the updated data\n",
    "print(df_cleaned.head())  "
   ]
  },
  {
   "cell_type": "markdown",
   "id": "308675d1-541a-41e4-a089-e3bbd358bcb8",
   "metadata": {},
   "source": [
    "### 3.Model Developement and Evaluation Phase:"
   ]
  },
  {
   "cell_type": "markdown",
   "id": "b625caf5-ab82-4254-804c-8ef6c86c9a09",
   "metadata": {},
   "source": [
    "### Implementing Logistic Regression Model "
   ]
  },
  {
   "cell_type": "code",
   "execution_count": 33,
   "id": "f78dac3e-4025-4942-872f-423ab4b12e2f",
   "metadata": {},
   "outputs": [
    {
     "name": "stdout",
     "output_type": "stream",
     "text": [
      "Model Accuracy: 0.6830\n",
      "\n",
      "Confusion Matrix:\n",
      " [[105919  48861]\n",
      " [   988   1505]]\n",
      "\n",
      "Classification Report:\n",
      "               precision    recall  f1-score   support\n",
      "\n",
      "           0       0.99      0.68      0.81    154780\n",
      "           1       0.03      0.60      0.06      2493\n",
      "\n",
      "    accuracy                           0.68    157273\n",
      "   macro avg       0.51      0.64      0.43    157273\n",
      "weighted avg       0.98      0.68      0.80    157273\n",
      "\n"
     ]
    },
    {
     "data": {
      "image/png": "[encoded data removed]",
      "text/plain": [
       "<Figure size 600x400 with 2 Axes>"
      ]
     },
     "metadata": {},
     "output_type": "display_data"
    }
   ],
   "source": [
    "# Import necessary libraries\n",
    "import seaborn as sns\n",
    "from sklearn.model_selection import train_test_split\n",
    "from sklearn.preprocessing import StandardScaler\n",
    "from sklearn.linear_model import LogisticRegression\n",
    "from sklearn.metrics import accuracy_score, confusion_matrix, classification_report\n",
    "\n",
    "# Define features (X) and target variable (y)\n",
    "X = df_cleaned.drop(columns=['isFraud'])  # Replace 'target_column' with actual target variable\n",
    "y = df_cleaned['isFraud']\n",
    "\n",
    "# Split data into training and testing sets (80% train, 20% test)\n",
    "X_train, X_test, y_train, y_test = train_test_split(X, y, test_size=0.2, random_state=42)\n",
    "\n",
    "# Scale features (Normalization)\n",
    "scaler = StandardScaler()\n",
    "X_train = scaler.fit_transform(X_train)\n",
    "X_test = scaler.transform(X_test)\n",
    "\n",
    "# Create and train Logistic Regression model\n",
    "model = LogisticRegression(class_weight='balanced')\n",
    "model.fit(X_train, y_train)\n",
    "\n",
    "# Predict on test data\n",
    "y_pred = model.predict(X_test)\n",
    "\n",
    "# Evaluate Model Performance\n",
    "accuracy = accuracy_score(y_test, y_pred)\n",
    "conf_matrix = confusion_matrix(y_test, y_pred)\n",
    "classification_rep = classification_report(y_test, y_pred)\n",
    "\n",
    "print(f\"Model Accuracy: {accuracy:.4f}\")\n",
    "print(\"\\nConfusion Matrix:\\n\", conf_matrix)\n",
    "print(\"\\nClassification Report:\\n\", classification_rep)\n",
    "\n",
    "# Visualization of Confusion Matrix\n",
    "plt.figure(figsize=(6,4))\n",
    "sns.heatmap(conf_matrix, annot=True, fmt=\"d\", cmap=\"Blues\")\n",
    "plt.xlabel(\"Predicted Label\")\n",
    "plt.ylabel(\"True Label\")\n",
    "plt.title(\"Confusion Matrix\")\n",
    "plt.show() \n"
   ]
  },
  {
   "cell_type": "markdown",
   "id": "af3fe787-c1ac-4b5f-afa5-528f0c845c92",
   "metadata": {},
   "source": [
    "### Implementing Random Forest Model for Fraudulent transactions prediction "
   ]
  },
  {
   "cell_type": "code",
   "execution_count": 34,
   "id": "982a5907-1c68-4839-a7e9-ddf778c9e205",
   "metadata": {},
   "outputs": [
    {
     "name": "stdout",
     "output_type": "stream",
     "text": [
      "Confusion Matrix:\n",
      "[[182884  49300]\n",
      " [  1416   2309]]\n",
      "\n",
      "Classification Report:\n",
      "              precision    recall  f1-score   support\n",
      "\n",
      "           0       0.99      0.79      0.88    232184\n",
      "           1       0.04      0.62      0.08      3725\n",
      "\n",
      "    accuracy                           0.79    235909\n",
      "   macro avg       0.52      0.70      0.48    235909\n",
      "weighted avg       0.98      0.79      0.87    235909\n",
      "\n",
      "\n",
      "ROC-AUC Score:\n",
      "0.7754739067164274\n"
     ]
    }
   ],
   "source": [
    "from sklearn.ensemble import RandomForestClassifier\n",
    "from sklearn.metrics import roc_auc_score\n",
    "\n",
    "X = df_cleaned.drop(columns=['isFraud'])  \n",
    "y = df_cleaned['isFraud']  \n",
    "\n",
    "# Split the data into training and testing sets\n",
    "X_train, X_test, y_train, y_test = train_test_split(X, y, test_size=0.3, random_state=42, stratify=y)\n",
    "\n",
    "# Initialize the Random Forest Classifier\n",
    "rf_model = RandomForestClassifier(n_estimators=100, random_state=42, max_depth=10, class_weight='balanced')\n",
    "\n",
    "# Train the model\n",
    "rf_model.fit(X_train, y_train)\n",
    "\n",
    "# Predict on the test set\n",
    "y_pred = rf_model.predict(X_test)\n",
    "y_proba = rf_model.predict_proba(X_test)[:, 1]  # Probabilities for ROC-AUC\n",
    "\n",
    "# Evaluate the model\n",
    "print(\"Confusion Matrix:\")\n",
    "print(confusion_matrix(y_test, y_pred))\n",
    "\n",
    "print(\"\\nClassification Report:\")\n",
    "print(classification_report(y_test, y_pred))\n",
    "\n",
    "print(\"\\nROC-AUC Score:\")\n",
    "roc_auc = roc_auc_score(y_test, y_proba)\n",
    "print(roc_auc) \n"
   ]
  },
  {
   "cell_type": "markdown",
   "id": "b185a4c7-f173-4156-a120-8f0e15505ff4",
   "metadata": {},
   "source": [
    "-  True Negatives (TN): 182884\n",
    "The Model correctly predicted 182884 transactions as non-fraudulent (actual non-fraud).\n",
    "\n",
    "-  False Positives (FP): 49300\n",
    "The model incorrectly predicted 49300 transactions as fraudulent (actual non-fraud).\n",
    "\n",
    "-  **False Negatives (FN): 1416**\n",
    "**The model failed to detect 1416 fraudulent transactions (actual fraud) . i.e missing fraudulent transaction can lead to risk hence we need to work on minizimg them.**\n",
    "\n",
    "-  True Positives (TP): 2309\n",
    "The model correctly identified 2309 transactions as fraudulent (actual fraud).\n",
    "\n",
    "The model predicts many non-fraudulent transactions as fraudulent, which might lead to customer dissatisfaction due to unnecessary alerts or blocks.\n",
    "\n",
    "#### The model detects about 62% of fraudulent transactions, which is decent but can be improved and only 4 % of transactions predicted as fraud are actually fraudulent, indicating the model struggles with accurately identifying fraud cases.\n",
    "\n",
    "####  A high accuracy (77.5%) can be misleading in imbalanced datasets, as the majority class (non-fraud) dominates.\n",
    "\n",
    "Further, I am going to use few strategies to maintain balance between precision recall trae off and to balance the dataset. \n",
    "\n",
    "First, I will Adjust the Decision Threshold, by Lowering or increasing the threshold we may help balance precision and recall based on business needs. Also, for Handling Class Imbalance, I will implement SMOTE whcih will generaste synthetic sampels of minority class. . \n",
    "\n",
    "Lets see if using these techniques will help us create a balance and how it further impacts our decision making. "
   ]
  },
  {
   "cell_type": "markdown",
   "id": "a0feec87-c17b-44b1-9354-2d9ad1451f96",
   "metadata": {},
   "source": [
    "####  ROC Curve"
   ]
  },
  {
   "cell_type": "markdown",
   "id": "c8cb858c-479f-4d2a-aa7a-ee589140941f",
   "metadata": {},
   "source": [
    "Important here is precision and recall of class 1 Which is minoriy class. Also reducing false negative and improving the recall of class 1. Also, by asjusting thresold to lowe, we can improve the recall of class 1 using ROC Auc curve. \n",
    "\n",
    "Missing a fraud case is much more critical and crucial then identifying non fraudlent as fraudulent."
   ]
  },
  {
   "cell_type": "code",
   "execution_count": 36,
   "id": "aa4e0dd3-38a5-4ce8-8799-3ca6c26cd080",
   "metadata": {},
   "outputs": [
    {
     "data": {
      "image/png": "[encoded data removed]",
      "text/plain": [
       "<Figure size 800x600 with 1 Axes>"
      ]
     },
     "metadata": {},
     "output_type": "display_data"
    },
    {
     "ename": "NameError",
     "evalue": "name 'y_prob' is not defined",
     "output_type": "error",
     "traceback": [
      "\u001b[0;31m---------------------------------------------------------------------------\u001b[0m",
      "\u001b[0;31mNameError\u001b[0m                                 Traceback (most recent call last)",
      "Cell \u001b[0;32mIn[36], line 17\u001b[0m\n\u001b[1;32m     13\u001b[0m plt\u001b[38;5;241m.\u001b[39mshow() \n\u001b[1;32m     16\u001b[0m \u001b[38;5;66;03m# Get FPR, TPR, thresholds\u001b[39;00m\n\u001b[0;32m---> 17\u001b[0m fpr, tpr, thresholds \u001b[38;5;241m=\u001b[39m roc_curve(y_test, y_prob)\n\u001b[1;32m     19\u001b[0m \u001b[38;5;66;03m# Calculate Youden's J statistic\u001b[39;00m\n\u001b[1;32m     20\u001b[0m youden_j \u001b[38;5;241m=\u001b[39m tpr \u001b[38;5;241m-\u001b[39m fpr\n",
      "\u001b[0;31mNameError\u001b[0m: name 'y_prob' is not defined"
     ]
    }
   ],
   "source": [
    "from sklearn.metrics import roc_auc_score\n",
    "from sklearn.metrics import roc_curve\n",
    "\n",
    "# Plot ROC Curve\n",
    "fpr, tpr, _ = roc_curve(y_test, y_proba)\n",
    "plt.figure(figsize=(8, 6))\n",
    "plt.plot(fpr, tpr, color='blue', label=f'ROC Curve (AUC = {roc_auc:.2f})')\n",
    "plt.plot([0, 1], [0, 1], color='gray', linestyle='--', label='Random Guess')\n",
    "plt.title('Receiver Operating Characteristic (ROC) Curve', fontsize=16)\n",
    "plt.xlabel('False Positive Rate', fontsize=12)\n",
    "plt.ylabel('True Positive Rate', fontsize=12)\n",
    "plt.legend()\n",
    "plt.show() \n",
    "\n",
    "\n",
    "# Get FPR, TPR, thresholds\n",
    "fpr, tpr, thresholds = roc_curve(y_test, y_probs)\n",
    "\n",
    "# Calculate Youden's J statistic\n",
    "youden_j = tpr - fpr\n",
    "\n",
    "# Find the index of the best threshold\n",
    "best_threshold_index = youden_j.argmax()\n",
    "best_threshold = thresholds[best_threshold_index]\n",
    "\n",
    "print(\"Best Threshold:\", best_threshold) \n"
   ]
  },
  {
   "cell_type": "code",
   "execution_count": 37,
   "id": "979f31b0-7e6b-44ab-8b69-7e4b986d2108",
   "metadata": {},
   "outputs": [
    {
     "name": "stdout",
     "output_type": "stream",
     "text": [
      "Confusion Matrix with Adjusted Threshold:\n",
      "[[159973  72211]\n",
      " [   987   2738]]\n",
      "\n",
      "Classification Report with Adjusted Threshold:\n",
      "              precision    recall  f1-score   support\n",
      "\n",
      "           0       0.99      0.69      0.81    232184\n",
      "           1       0.04      0.74      0.07      3725\n",
      "\n",
      "    accuracy                           0.69    235909\n",
      "   macro avg       0.52      0.71      0.44    235909\n",
      "weighted avg       0.98      0.69      0.80    235909\n",
      "\n"
     ]
    }
   ],
   "source": [
    "  \n",
    "X = df_cleaned.drop(columns=['isFraud'])  \n",
    "y = df_cleaned['isFraud']  \n",
    "\n",
    "# Split the data into training and testing sets\n",
    "X_train, X_test, y_train, y_test = train_test_split(X, y, test_size=0.3, random_state=42, stratify=y)\n",
    "\n",
    "# Initialize the Random Forest Classifier\n",
    "rf_model = RandomForestClassifier(n_estimators=100, random_state=42, max_depth=10, class_weight='balanced')\n",
    "\n",
    "# Train the model\n",
    "rf_model.fit(X_train, y_train)\n",
    "\n",
    "# Predict probabilities\n",
    "y_probs = rf_model.predict_proba(X_test)[:, 1]  # Get probabilities for the positive class\n",
    "\n",
    "# Adjust threshold\n",
    "threshold = 0.43  # Set a new threshold\n",
    "y_pred_adjusted = (y_probs >= threshold).astype(int)\n",
    "\n",
    "# Evaluate metrics\n",
    "print(\"Confusion Matrix with Adjusted Threshold:\")\n",
    "print(confusion_matrix(y_test, y_pred_adjusted))\n",
    "\n",
    "print(\"\\nClassification Report with Adjusted Threshold:\")\n",
    "print(classification_report(y_test, y_pred_adjusted)) "
   ]
  },
  {
   "cell_type": "markdown",
   "id": "441d8268-568e-49dd-ae66-2db2a023ecba",
   "metadata": {},
   "source": [
    "We have adjusted our thresold value to *0.43* by finding the most optimal thresold value using youden statistics. As a result Recall of Class 1 (minority class) increased to 74% from 62%. Indicating that model correcly predicts 74% of fraudulent transactions, which indicates a goo caputure and we can further use this model in real time.   "
   ]
  },
  {
   "cell_type": "code",
   "execution_count": 46,
   "id": "0eb8f2de-f26e-46cc-ada4-510da36bf609",
   "metadata": {},
   "outputs": [],
   "source": [
    "mlflow.end_run() "
   ]
  },
  {
   "cell_type": "markdown",
   "id": "957f647b-3c29-43ff-9c36-2282e45ba4f0",
   "metadata": {},
   "source": [
    "#### Applying SMOTE and using MLFLOW for model tracking and Management "
   ]
  },
  {
   "cell_type": "code",
   "execution_count": 47,
   "id": "15ce1ae5-ba87-47cd-a23f-ab48fb43f914",
   "metadata": {},
   "outputs": [
    {
     "name": "stderr",
     "output_type": "stream",
     "text": [
      "\u001b[31m2025/04/22 20:48:11 WARNING mlflow.models.model: Model logged without a signature and input example. Please set `input_example` parameter when logging the model to auto infer the model signature.\u001b[0m\n"
     ]
    },
    {
     "name": "stdout",
     "output_type": "stream",
     "text": [
      "Confusion Matrix:\n",
      "[[219252  12572]\n",
      " [  4010 228534]]\n",
      "\n",
      "Classification Report:\n",
      "              precision    recall  f1-score   support\n",
      "\n",
      "           0       0.98      0.95      0.96    231824\n",
      "           1       0.95      0.98      0.96    232544\n",
      "\n",
      "    accuracy                           0.96    464368\n",
      "   macro avg       0.96      0.96      0.96    464368\n",
      "weighted avg       0.96      0.96      0.96    464368\n",
      "\n"
     ]
    }
   ],
   "source": [
    "import mlflow\n",
    "import mlflow.sklearn\n",
    "from imblearn.over_sampling import SMOTE\n",
    "\n",
    "# Start MLflow experiment\n",
    "mlflow.start_run()\n",
    "\n",
    "# Separate features and target\n",
    "X = df_cleaned.drop(\"isFraud\", axis=1)\n",
    "y = df_cleaned[\"isFraud\"]\n",
    "\n",
    "# Apply SMOTE\n",
    "smote = SMOTE(random_state=42)\n",
    "X_resampled, y_resampled = smote.fit_resample(X, y)\n",
    "\n",
    "# Train-test split on the resampled data\n",
    "X_train, X_test, y_train, y_test = train_test_split(X_resampled, y_resampled, test_size=0.3, random_state=42)\n",
    "\n",
    "# Log the class distribution after SMOTE\n",
    "mlflow.log_param(\"class_distribution_after_smote\", str(y_resampled.value_counts()))\n",
    "\n",
    "# Train the Random Forest model\n",
    "model = RandomForestClassifier(random_state=42)\n",
    "model.fit(X_train, y_train)\n",
    "\n",
    "# Log model parameters\n",
    "mlflow.log_param(\"model\", \"RandomForestClassifier\")\n",
    "mlflow.log_param(\"random_state\", 42)\n",
    "\n",
    "# Predict on the test set\n",
    "y_pred = model.predict(X_test)\n",
    "\n",
    "# Log metrics (Confusion Matrix and Classification Report)\n",
    "conf_matrix = confusion_matrix(y_test, y_pred)\n",
    "mlflow.log_metric(\"TN\", conf_matrix[0, 0])\n",
    "mlflow.log_metric(\"FP\", conf_matrix[0, 1])\n",
    "mlflow.log_metric(\"FN\", conf_matrix[1, 0])\n",
    "mlflow.log_metric(\"TP\", conf_matrix[1, 1])\n",
    "\n",
    "# Log classification report metrics\n",
    "report = classification_report(y_test, y_pred, output_dict=True)\n",
    "for label, metrics in report.items():\n",
    "    if label != \"accuracy\":\n",
    "        mlflow.log_metric(f\"{label}_precision\", metrics[\"precision\"])\n",
    "        mlflow.log_metric(f\"{label}_recall\", metrics[\"recall\"])\n",
    "        mlflow.log_metric(f\"{label}_f1-score\", metrics[\"f1-score\"])\n",
    "\n",
    "# Log the trained model\n",
    "mlflow.sklearn.log_model(model, \"model\")\n",
    "\n",
    "\n",
    "# Print the metrics and classification report\n",
    "print(\"Confusion Matrix:\")\n",
    "print(conf_matrix)\n",
    "\n",
    "print(\"\\nClassification Report:\")\n",
    "print(classification_report(y_test, y_pred)) \n",
    "\n"
   ]
  },
  {
   "cell_type": "code",
   "execution_count": null,
   "id": "e528694d-95cf-4563-9428-8eb9d82202b3",
   "metadata": {},
   "outputs": [],
   "source": [
    "**From Above Classification report and metrics, we can say that:**"
   ]
  },
  {
   "cell_type": "markdown",
   "id": "9029f5a1-f5fe-4625-94a3-a6008a451795",
   "metadata": {},
   "source": [
    "\n",
    "After applying SMOTE, the class distribution is balanced, which is crucial for improving the model's ability to detect fraudulent transactions without being biased toward the majority class (non-fraudulent).\n",
    "\n",
    "**High Performance:** The model has strong performance, with high precision, recall, and F1-score for both classes (non-fraudulent and fraudulent). This indicates that the model is doing well in correctly identifying both fraudulent and non-fraudulent transactions.\n",
    "\n",
    "**Low False Positives and False Negatives:**\n",
    "False positives (non-fraudulent transactions predicted as fraudulent) are **12,572,** which is relatively low considering the large number of total non-fraudulent transactions.\n",
    "\n",
    "False negatives (fraudulent transactions predicted as non-fraudulent) are also low, with only **4,010,** which indicates that the model is not missing many fraudulent transactions.\n",
    "\n",
    "**Business Implications:**\n",
    "\n",
    "**Fraud Detection:** The model is highly effective at detecting fraudulent transactions, with an **98%** recall for fraudulent transactions, which means it catches nearly all instances of fraud.\n",
    "\n",
    "**Operational Impact:** With a high precision for both classes, the business can be confident in its predictions, reducing manual investigation time for non-fraudulent transactions while still catching most fraudulent activities."
   ]
  },
  {
   "cell_type": "markdown",
   "id": "75da003d-12fa-4902-9629-f6b0f84cdec5",
   "metadata": {},
   "source": [
    "### Which models works better?"
   ]
  },
  {
   "cell_type": "markdown",
   "id": "b4e70fae-71c7-464b-a980-53478903b10b",
   "metadata": {},
   "source": [
    "The logistic Regression Model shows accuracy of 68% which signifies that model needs improvement in terms of classifying class 0 and Class 1. For further analysis, I have implemented Random Forest due to its ability to handle categorical and numerical data, and effectiveness in capturing non-linear relationships.\n",
    "Also, It provides great tool of feature importance, which helps understand the key drivers of fradulent transactions and would help us to implement potential solutions and minimize the risk."
   ]
  },
  {
   "cell_type": "markdown",
   "id": "e96bc17c-b95c-4f56-bb5b-f073a59813a9",
   "metadata": {},
   "source": [
    "## lets see which features are contributing most towards fraudulent activities "
   ]
  },
  {
   "cell_type": "code",
   "execution_count": 96,
   "id": "9a44eb3a-2ad3-4e4f-9789-4132e76b9a52",
   "metadata": {},
   "outputs": [
    {
     "name": "stdout",
     "output_type": "stream",
     "text": [
      "accountNumber: 0.0936\n",
      "creditLimit: 0.0306\n",
      "availableMoney: 0.0451\n",
      "transactionAmount: 0.3248\n",
      "merchantName: 0.1263\n",
      "acqCountry: 0.0027\n",
      "merchantCountryCode: 0.0042\n",
      "posEntryMode: 0.1489\n",
      "transactionType: 0.0080\n",
      "currentBalance: 0.0518\n",
      "cardPresent: 0.0975\n",
      "expirationDateKeyInMatch: 0.0001\n",
      "transaction_hour: 0.0232\n",
      "transaction_year: 0.0000\n",
      "transaction_month: 0.0192\n",
      "transaction_day: 0.0241\n"
     ]
    }
   ],
   "source": [
    "# Feature Importance (optional)\n",
    "feature_importance = rf_model.feature_importances_\n",
    "for name, importance in zip(X.columns, feature_importance):\n",
    "    print(f\"{name}: {importance:.4f}\") "
   ]
  },
  {
   "cell_type": "markdown",
   "id": "2c95c18e-921c-4248-9e65-6001533f42db",
   "metadata": {},
   "source": [
    "\n",
    "### Questions I Have? \n",
    "Are there specific thresholds or business rules for flagging transactions as fraudulent beyond model predictions?\n",
    "How will the model predictions be used operationally? (e.g., real-time fraud detection or periodic reporting)\n",
    "                                              \n",
    "### What I Would Do Next With More Time?\n",
    "\n",
    "**I would have used more feautures like payment Type, ProsentryMode and different time formarts to see if there are fraudulent actities for specfic times or days.** \n",
    "**Hyperparameter Tuning**\n",
    "**Perform grid search or randomized search to optimize model parameters for better performance**\n",
    "**Use unsupervised learning methods like clustering to detect anomalous transactions**\n",
    "\n"
   ]
  },
  {
   "cell_type": "markdown",
   "id": "7a53c9e2-f792-4f11-a94a-bfeca6b09ec5",
   "metadata": {},
   "source": [
    "### Conclusion and Recommendations\n",
    "\n",
    "From our Exploratory Data Analysis, Model Performance and Feature Importance we have below insights and Recommendations for Business. \n",
    "\n",
    "-  Account number, PostEntry Mode and MerchantName are them most crucial features which are prone towards fraudelent transactions.\n",
    "\n",
    "-  If we dig deeper from our earlier visualisation we can see that Account number 380680241 have had  907 reverse transactions and (#882815134) had 384 reverse trasactions. These two accounts needs further investigation in terms of time period and freuquency of reversal within weeks or days. \n",
    "\n",
    "-  Also, the merchants like Lyft with  692, Uber with 689, alibaba.com with 499 and ebay.com with 491 as topmost merchant which usually are Ecommerce platform. ridesharing services and Online trading platform have most of transaction reversal, which requires further investigation and monitoring.\n",
    "\n",
    "**Strategies and Recommendations:**\n",
    "-  Implement automated flags for accounts with high reversal frequencies within a specified time window and prioritize these accounts for manual review or additional identity verification steps. Also, Analyze transaction patterns, frequency, and timing for flagged accounts to detect anomalies.\n",
    "\n",
    "-  Develop a risk score for merchants based on the frequency of reversals, transaction volume, and customer complaints and Prioritize high-risk merchants for audits or closer monitoring. Also, Engage with high-risk merchants to understand why reversals occur (e.g., customer dissatisfaction, system errors, or fraud).\n",
    "\n",
    "-  Set limits for high-risk merchants (e.g., cap the transaction amount or restrict bulk transactions).\n"
   ]
  },
  {
   "cell_type": "markdown",
   "id": "b92ba20f-e1d7-4013-9a90-daf895535e72",
   "metadata": {},
   "source": [
    "## **THANKYOU**"
   ]
  }
 ],
 "metadata": {
  "kernelspec": {
   "display_name": "Python 3 (ipykernel)",
   "language": "python",
   "name": "python3"
  },
  "language_info": {
   "codemirror_mode": {
    "name": "ipython",
    "version": 3
   },
   "file_extension": ".py",
   "mimetype": "text/x-python",
   "name": "python",
   "nbconvert_exporter": "python",
   "pygments_lexer": "ipython3",
   "version": "3.12.7"
  }
 },
 "nbformat": 4,
 "nbformat_minor": 5
}
